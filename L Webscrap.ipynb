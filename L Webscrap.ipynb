{
 "cells": [
  {
   "cell_type": "markdown",
   "id": "2462778c",
   "metadata": {},
   "source": [
    "# Linkedin Jobs Webscrapping and Email Automation\n",
    "- Juan Esteban Rincón Poveda\n",
    "\n",
    "- Other projects: [Porfolio](https://juanrinconp.github.io/portafolio/)"
   ]
  },
  {
   "cell_type": "markdown",
   "id": "bc61e254",
   "metadata": {},
   "source": [
    "This project automates the process of job searching on LinkedIn by building a Python web scraper that will extract the last job postings and automatically send them as email notifications to a list of recipients at given hour.\n",
    "\n"
   ]
  },
  {
   "cell_type": "code",
   "execution_count": 1,
   "id": "fdc2a87f",
   "metadata": {},
   "outputs": [],
   "source": [
    "from selenium import webdriver\n",
    "from bs4 import BeautifulSoup\n",
    "import time\n",
    "import pandas as pd\n",
    "import datetime\n",
    "import yagmail\n",
    "import os\n",
    "\n",
    "import warnings\n",
    "warnings.filterwarnings(\"ignore\")"
   ]
  },
  {
   "cell_type": "code",
   "execution_count": 2,
   "id": "9e80c77c",
   "metadata": {},
   "outputs": [],
   "source": [
    "pathout = './data/'\n",
    "if not os.path.exists(pathout):\n",
    "    os.mkdir(pathout) "
   ]
  },
  {
   "cell_type": "code",
   "execution_count": 4,
   "id": "631635ef",
   "metadata": {},
   "outputs": [],
   "source": [
    "lista = pd.read_excel(pathout + 'lista.xlsx')\n",
    "lista['Puesto2'] = lista['Puesto'].str.replace(' ' , '%20')\n",
    "jobs = lista['Puesto2'].tolist()\n",
    "#De la lista, sacamos los puestos para introducirlos a la URL."
   ]
  },
  {
   "cell_type": "code",
   "execution_count": 5,
   "id": "0e2b6b1c",
   "metadata": {},
   "outputs": [
    {
     "data": {
      "text/html": [
       "<div>\n",
       "<style scoped>\n",
       "    .dataframe tbody tr th:only-of-type {\n",
       "        vertical-align: middle;\n",
       "    }\n",
       "\n",
       "    .dataframe tbody tr th {\n",
       "        vertical-align: top;\n",
       "    }\n",
       "\n",
       "    .dataframe thead th {\n",
       "        text-align: right;\n",
       "    }\n",
       "</style>\n",
       "<table border=\"1\" class=\"dataframe\">\n",
       "  <thead>\n",
       "    <tr style=\"text-align: right;\">\n",
       "      <th></th>\n",
       "      <th>nombre</th>\n",
       "      <th>email</th>\n",
       "      <th>Puesto</th>\n",
       "      <th>lugar</th>\n",
       "      <th>Puesto2</th>\n",
       "    </tr>\n",
       "  </thead>\n",
       "  <tbody>\n",
       "    <tr>\n",
       "      <th>0</th>\n",
       "      <td>juan</td>\n",
       "      <td>juan.rinconp@hotmail.com</td>\n",
       "      <td>Data Analyst</td>\n",
       "      <td>Bogotá</td>\n",
       "      <td>Data%20Analyst</td>\n",
       "    </tr>\n",
       "  </tbody>\n",
       "</table>\n",
       "</div>"
      ],
      "text/plain": [
       "  nombre                     email        Puesto   lugar         Puesto2\n",
       "0   juan  juan.rinconp@hotmail.com  Data Analyst  Bogotá  Data%20Analyst"
      ]
     },
     "execution_count": 5,
     "metadata": {},
     "output_type": "execute_result"
    }
   ],
   "source": [
    "#Lista con información de la persona con el puesto que busca y el email.\n",
    "lista.head(1)"
   ]
  },
  {
   "cell_type": "code",
   "execution_count": 8,
   "id": "04ad32cf",
   "metadata": {},
   "outputs": [],
   "source": [
    "#Ubicación predeterminada: Bogotá.\n",
    "#Se crea un archivo por persona según sus preferencias.\n",
    "\n",
    "\n",
    "lugar ='Bogota%2C%20D.C.%2C%20Capital%20District%2C%20Colombia'\n",
    "for job in jobs:\n",
    "    \n",
    "    url = f'https://www.linkedin.com/jobs/search/?currentJobId=3464244316&f_TPR=r86400&geoId=102361989&keywords={job}&location={lugar}'\n",
    "    wd = webdriver.Chrome(executable_path='./chromedriver.exe')\n",
    "    wd.get(url)\n",
    "    soup = BeautifulSoup(wd.page_source, 'html.parser')\n",
    "\n",
    "    job_postings = soup.find_all(\"div\", {\"class\": \"base-card relative w-full hover:no-underline focus:no-underline base-card--link base-search-card base-search-card--link job-search-card\"})\n",
    "\n",
    "    data = []\n",
    "\n",
    "\n",
    "    for job_posting in job_postings:\n",
    "        try:\n",
    "            job_title = job_posting.find('span', class_='sr-only').get_text().strip()\n",
    "        except AttributeError:\n",
    "            job_title = None  \n",
    "\n",
    "        try:\n",
    "            c_url = job_posting.find('a', class_='base-card__full-link absolute top-0 right-0 bottom-0 left-0 p-0 z-[2]').get_attribute_list('href')\n",
    "        except AttributeError:\n",
    "            c_url = None        \n",
    "        try:\n",
    "            company = job_posting.find('a', class_='hidden-nested-link').get_text().strip()\n",
    "        except AttributeError:\n",
    "            company = None     \n",
    "        \n",
    "        data.append({\n",
    "            'Trabajo': job_title,\n",
    "            'Link': c_url,\n",
    "            'Empresa': company })\n",
    "        df = pd.DataFrame(data)\n",
    "        df['Link'] = df['Link'].astype(str)\n",
    "        df['Link'] = df['Link'].str[2:]\n",
    "        df['Link'] = df['Link'].str[:-2]\n",
    "    \n",
    "        filename = f'{job}.csv'\n",
    "        df.to_csv(filename, index=False)\n",
    "    "
   ]
  },
  {
   "cell_type": "code",
   "execution_count": 10,
   "id": "329eb59b",
   "metadata": {},
   "outputs": [],
   "source": [
    "while True:\n",
    "    if datetime.datetime.now().hour == 12 and datetime.datetime.now().minute == 4:\n",
    "        df = lista\n",
    "\n",
    "        for index, row in df.iterrows():\n",
    "            email = yagmail.SMTP(user=\"juanes.rinconp10@gmail.com\", password=\"mtnsutmjivnxjfjm\")\n",
    "            email.send(to=row['email'],\n",
    "                       subject=f\"Alerta de vacantes para {row['Puesto']}\",\n",
    "                       contents=f\"Buenos dias {row['nombre']}, adjunto encontraras las ofertas de empleo para el puesto de {row['Puesto']} para el día de hoy. Buen día. \\n\\n Atentemente,  \\n \\n Juanes R. \\n Data Scientist \\n 300000000\",\n",
    "                       attachments=[f\"{row['Puesto2']}.csv\" , \"recomendaciones.jpg\"])\n",
    "            print(\"Correos Enviados!\")\n",
    "    time.sleep(60)"
   ]
  },
  {
   "cell_type": "markdown",
   "id": "93f80a1b",
   "metadata": {},
   "source": [
    "Example of the file sent to the people on the list:"
   ]
  },
  {
   "cell_type": "code",
   "execution_count": 12,
   "id": "ceb9eec8",
   "metadata": {},
   "outputs": [
    {
     "data": {
      "text/html": [
       "<div>\n",
       "<style scoped>\n",
       "    .dataframe tbody tr th:only-of-type {\n",
       "        vertical-align: middle;\n",
       "    }\n",
       "\n",
       "    .dataframe tbody tr th {\n",
       "        vertical-align: top;\n",
       "    }\n",
       "\n",
       "    .dataframe thead th {\n",
       "        text-align: right;\n",
       "    }\n",
       "</style>\n",
       "<table border=\"1\" class=\"dataframe\">\n",
       "  <thead>\n",
       "    <tr style=\"text-align: right;\">\n",
       "      <th></th>\n",
       "      <th>Trabajo</th>\n",
       "      <th>Link</th>\n",
       "      <th>Empresa</th>\n",
       "    </tr>\n",
       "  </thead>\n",
       "  <tbody>\n",
       "    <tr>\n",
       "      <th>0</th>\n",
       "      <td>Analista de trade marketing</td>\n",
       "      <td>https://co.linkedin.com/jobs/view/analista-de-...</td>\n",
       "      <td>Eficacia</td>\n",
       "    </tr>\n",
       "    <tr>\n",
       "      <th>1</th>\n",
       "      <td>Coordinador/Profesional E-Commerce</td>\n",
       "      <td>https://co.linkedin.com/jobs/view/coordinador-...</td>\n",
       "      <td>Multiempleos S.A.</td>\n",
       "    </tr>\n",
       "    <tr>\n",
       "      <th>2</th>\n",
       "      <td>Executive Assistant</td>\n",
       "      <td>https://co.linkedin.com/jobs/view/executive-as...</td>\n",
       "      <td>Virtual Emily</td>\n",
       "    </tr>\n",
       "    <tr>\n",
       "      <th>3</th>\n",
       "      <td>Growth Lead</td>\n",
       "      <td>https://co.linkedin.com/jobs/view/growth-lead-...</td>\n",
       "      <td>Lulo bank</td>\n",
       "    </tr>\n",
       "    <tr>\n",
       "      <th>4</th>\n",
       "      <td>Líder de desarrollo de negocios digitales</td>\n",
       "      <td>https://co.linkedin.com/jobs/view/l%C3%ADder-d...</td>\n",
       "      <td>Michael Page</td>\n",
       "    </tr>\n",
       "  </tbody>\n",
       "</table>\n",
       "</div>"
      ],
      "text/plain": [
       "                                     Trabajo  \\\n",
       "0                Analista de trade marketing   \n",
       "1         Coordinador/Profesional E-Commerce   \n",
       "2                        Executive Assistant   \n",
       "3                                Growth Lead   \n",
       "4  Líder de desarrollo de negocios digitales   \n",
       "\n",
       "                                                Link            Empresa  \n",
       "0  https://co.linkedin.com/jobs/view/analista-de-...           Eficacia  \n",
       "1  https://co.linkedin.com/jobs/view/coordinador-...  Multiempleos S.A.  \n",
       "2  https://co.linkedin.com/jobs/view/executive-as...      Virtual Emily  \n",
       "3  https://co.linkedin.com/jobs/view/growth-lead-...          Lulo bank  \n",
       "4  https://co.linkedin.com/jobs/view/l%C3%ADder-d...       Michael Page  "
      ]
     },
     "execution_count": 12,
     "metadata": {},
     "output_type": "execute_result"
    }
   ],
   "source": [
    "df.head(5)"
   ]
  },
  {
   "cell_type": "code",
   "execution_count": null,
   "id": "39405c01",
   "metadata": {},
   "outputs": [],
   "source": []
  }
 ],
 "metadata": {
  "kernelspec": {
   "display_name": "Python 3 (ipykernel)",
   "language": "python",
   "name": "python3"
  },
  "language_info": {
   "codemirror_mode": {
    "name": "ipython",
    "version": 3
   },
   "file_extension": ".py",
   "mimetype": "text/x-python",
   "name": "python",
   "nbconvert_exporter": "python",
   "pygments_lexer": "ipython3",
   "version": "3.9.12"
  }
 },
 "nbformat": 4,
 "nbformat_minor": 5
}
